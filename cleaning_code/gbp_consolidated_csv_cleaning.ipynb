{
 "cells": [
  {
   "cell_type": "code",
   "execution_count": 2,
   "id": "14aa490e-88a5-4ea6-affd-ec22fbe803e6",
   "metadata": {},
   "outputs": [],
   "source": [
    "# Import modules\n",
    "import pandas as pd\n",
    "from pathlib import Path\n",
    "import numpy as np\n",
    "import matplotlib.pyplot as plt"
   ]
  },
  {
   "cell_type": "code",
   "execution_count": 3,
   "id": "d4a89855-8c9f-4099-8b4b-f7a2561ae931",
   "metadata": {},
   "outputs": [
    {
     "name": "stdout",
     "output_type": "stream",
     "text": [
      "<class 'pandas.core.frame.DataFrame'>\n",
      "RangeIndex: 5400 entries, 0 to 5399\n",
      "Data columns (total 6 columns):\n",
      " #   Column    Non-Null Count  Dtype  \n",
      "---  ------    --------------  -----  \n",
      " 0   location  5400 non-null   object \n",
      " 1   cause     5400 non-null   object \n",
      " 2   year      5400 non-null   int64  \n",
      " 3   val       5400 non-null   float64\n",
      " 4   upper     5400 non-null   float64\n",
      " 5   lower     5400 non-null   float64\n",
      "dtypes: float64(3), int64(1), object(2)\n",
      "memory usage: 253.2+ KB\n"
     ]
    }
   ],
   "source": [
    "## Read in the Data for First CSV\n",
    "\n",
    "# Create file path\n",
    "file_1 = Path('../Resources/gbd_cause_of_death_80_94.csv')\n",
    "\n",
    "# Read in Data\n",
    "df_1 = pd.read_csv(file_1, encoding=\"UTF-8\", low_memory=False)\n",
    "\n",
    "# Drop uneccessary columns\n",
    "df_1 = df_1.drop(columns=['metric', 'measure', 'age', 'sex'])\n",
    "df_1.info()"
   ]
  },
  {
   "cell_type": "code",
   "execution_count": 4,
   "id": "921a78f1-ad02-494e-86be-0e2e58932ad4",
   "metadata": {},
   "outputs": [
    {
     "name": "stdout",
     "output_type": "stream",
     "text": [
      "<class 'pandas.core.frame.DataFrame'>\n",
      "RangeIndex: 540 entries, 0 to 539\n",
      "Data columns (total 12 columns):\n",
      " #   Column                               Non-Null Count  Dtype  \n",
      "---  ------                               --------------  -----  \n",
      " 0   location                             540 non-null    object \n",
      " 1   year                                 540 non-null    int64  \n",
      " 2   Alcohol use disorders                540 non-null    float64\n",
      " 3   Cardiovascular diseases              540 non-null    float64\n",
      " 4   Diabetes mellitus                    540 non-null    float64\n",
      " 5   Liver cancer due to alcohol use      540 non-null    float64\n",
      " 6   Motor vehicle road injuries          540 non-null    float64\n",
      " 7   Opioid use disorders                 540 non-null    float64\n",
      " 8   Police conflict and executions       540 non-null    float64\n",
      " 9   Road injuries                        540 non-null    float64\n",
      " 10  Self-harm                            540 non-null    float64\n",
      " 11  Tracheal, bronchus, and lung cancer  540 non-null    float64\n",
      "dtypes: float64(10), int64(1), object(1)\n",
      "memory usage: 50.8+ KB\n"
     ]
    }
   ],
   "source": [
    "# Transpose the First DataFrame with 'cause' as column values\n",
    "transposed_df_1 = df_1.pivot_table(index=['location', 'year'],\n",
    "                               columns='cause',\n",
    "                               values='val').reset_index()\n",
    "\n",
    "# Print the transposed DataFrame\n",
    "transposed_df_1.info()"
   ]
  },
  {
   "cell_type": "code",
   "execution_count": 5,
   "id": "27ec77b9-94fe-4481-aa1d-8b4d87dd15cc",
   "metadata": {},
   "outputs": [
    {
     "name": "stdout",
     "output_type": "stream",
     "text": [
      "<class 'pandas.core.frame.DataFrame'>\n",
      "RangeIndex: 9720 entries, 0 to 9719\n",
      "Data columns (total 6 columns):\n",
      " #   Column    Non-Null Count  Dtype  \n",
      "---  ------    --------------  -----  \n",
      " 0   location  9720 non-null   object \n",
      " 1   cause     9720 non-null   object \n",
      " 2   year      9720 non-null   int64  \n",
      " 3   val       9720 non-null   float64\n",
      " 4   upper     9720 non-null   float64\n",
      " 5   lower     9720 non-null   float64\n",
      "dtypes: float64(3), int64(1), object(2)\n",
      "memory usage: 455.8+ KB\n"
     ]
    }
   ],
   "source": [
    "## Read in the Data for Second CSV\n",
    "\n",
    "# Create file path\n",
    "file_2 = Path('../Resources/gbd_cause_of_death_95_21.csv')\n",
    "\n",
    "# Read in Data\n",
    "df_2 = pd.read_csv(file_2, encoding=\"UTF-8\", low_memory=False)\n",
    "\n",
    "# Drop uneccessary columns\n",
    "df_2 = df_2.drop(columns=['metric', 'measure', 'age', 'sex'])\n",
    "df_2.info()"
   ]
  },
  {
   "cell_type": "code",
   "execution_count": 6,
   "id": "ec6e5ad4-eefd-4b1d-a6a9-fc72ad30d6e1",
   "metadata": {},
   "outputs": [
    {
     "name": "stdout",
     "output_type": "stream",
     "text": [
      "<class 'pandas.core.frame.DataFrame'>\n",
      "RangeIndex: 972 entries, 0 to 971\n",
      "Data columns (total 12 columns):\n",
      " #   Column                               Non-Null Count  Dtype  \n",
      "---  ------                               --------------  -----  \n",
      " 0   location                             972 non-null    object \n",
      " 1   year                                 972 non-null    int64  \n",
      " 2   Alcohol use disorders                972 non-null    float64\n",
      " 3   Cardiovascular diseases              972 non-null    float64\n",
      " 4   Diabetes mellitus                    972 non-null    float64\n",
      " 5   Liver cancer due to alcohol use      972 non-null    float64\n",
      " 6   Motor vehicle road injuries          972 non-null    float64\n",
      " 7   Opioid use disorders                 972 non-null    float64\n",
      " 8   Police conflict and executions       972 non-null    float64\n",
      " 9   Road injuries                        972 non-null    float64\n",
      " 10  Self-harm                            972 non-null    float64\n",
      " 11  Tracheal, bronchus, and lung cancer  972 non-null    float64\n",
      "dtypes: float64(10), int64(1), object(1)\n",
      "memory usage: 91.2+ KB\n"
     ]
    }
   ],
   "source": [
    "# Transpose the Second DataFrame with 'cause' as column values\n",
    "transposed_df_2 = df_2.pivot_table(index=['location', 'year'],\n",
    "                               columns='cause',\n",
    "                               values='val').reset_index()\n",
    "\n",
    "# Print the transposed DataFrame\n",
    "transposed_df_2.info()"
   ]
  },
  {
   "cell_type": "code",
   "execution_count": 7,
   "id": "1f9461ac-b9fe-4b4b-ac37-764eb33ec438",
   "metadata": {},
   "outputs": [
    {
     "name": "stdout",
     "output_type": "stream",
     "text": [
      "<class 'pandas.core.frame.DataFrame'>\n",
      "Index: 1512 entries, 0 to 971\n",
      "Data columns (total 12 columns):\n",
      " #   Column                               Non-Null Count  Dtype  \n",
      "---  ------                               --------------  -----  \n",
      " 0   location                             1512 non-null   object \n",
      " 1   year                                 1512 non-null   int64  \n",
      " 2   Alcohol use disorders                1512 non-null   float64\n",
      " 3   Cardiovascular diseases              1512 non-null   float64\n",
      " 4   Diabetes mellitus                    1512 non-null   float64\n",
      " 5   Liver cancer due to alcohol use      1512 non-null   float64\n",
      " 6   Motor vehicle road injuries          1512 non-null   float64\n",
      " 7   Opioid use disorders                 1512 non-null   float64\n",
      " 8   Police conflict and executions       1512 non-null   float64\n",
      " 9   Road injuries                        1512 non-null   float64\n",
      " 10  Self-harm                            1512 non-null   float64\n",
      " 11  Tracheal, bronchus, and lung cancer  1512 non-null   float64\n",
      "dtypes: float64(10), int64(1), object(1)\n",
      "memory usage: 153.6+ KB\n"
     ]
    }
   ],
   "source": [
    "joined_df = pd.concat([transposed_df_1, transposed_df_2])\n",
    "\n",
    "# If the index needs to be reset after concatenation\n",
    "# joined_df = joined_df.reset_index(drop=True)\n",
    "\n",
    "# Display the joined DataFrame\n",
    "joined_df.info()"
   ]
  },
  {
   "cell_type": "code",
   "execution_count": 8,
   "id": "c173a3fe-cbae-4a21-bf2e-cc2eaa68c58b",
   "metadata": {},
   "outputs": [],
   "source": [
    "gbp_df = joined_df.sort_values(by=['location', 'year'])"
   ]
  },
  {
   "cell_type": "code",
   "execution_count": 9,
   "id": "2c658956-ccda-49ee-975f-5bab6a660f7d",
   "metadata": {},
   "outputs": [],
   "source": [
    "gbp_df.to_csv('../output/csv/cleaned_gbp_dataset.csv', index=False)"
   ]
  },
  {
   "cell_type": "code",
   "execution_count": null,
   "id": "8e8d079f-255f-4b93-b539-d77dc8cf4c81",
   "metadata": {},
   "outputs": [],
   "source": []
  }
 ],
 "metadata": {
  "kernelspec": {
   "display_name": "Python 3 (ipykernel)",
   "language": "python",
   "name": "python3"
  },
  "language_info": {
   "codemirror_mode": {
    "name": "ipython",
    "version": 3
   },
   "file_extension": ".py",
   "mimetype": "text/x-python",
   "name": "python",
   "nbconvert_exporter": "python",
   "pygments_lexer": "ipython3",
   "version": "3.10.14"
  }
 },
 "nbformat": 4,
 "nbformat_minor": 5
}
