{
 "cells": [
  {
   "cell_type": "code",
   "execution_count": 87,
   "id": "9e87c2f9-43bf-4ad0-93af-f68c9d593cfc",
   "metadata": {},
   "outputs": [],
   "source": [
    "%matplotlib inline\n",
    "\n",
    "import pandas as pd\n",
    "from pathlib import Path\n",
    "import numpy as np\n",
    "import matplotlib.pyplot as plt"
   ]
  },
  {
   "cell_type": "code",
   "execution_count": 102,
   "id": "881804ea-27b5-4ed6-b763-aefcb828fe63",
   "metadata": {
    "scrolled": true
   },
   "outputs": [],
   "source": [
    "# DATA CLEANING\n",
    "\n",
    "# Display the data\n",
    "raw = Path(\"..\", \"Resources\", \"WHO_health_expenditure.csv\")\n",
    "raw_df = pd.read_csv(raw, encoding=\"ISO-8859-1\")\n",
    "\n",
    "# Display unique values in the two indicator columns in order to identify relevant rows for further processing\n",
    "# print(raw_df[\"Indicators\"].unique())\n",
    "# print(raw_df[\"Unnamed: 2\"].unique())\n",
    "# Decided to use \"Current Health Expenditure (CHE) as % Gross Domestic Product (GDP)\" and \"Current Health Expenditure (CHE) per Capita in US$\"\n",
    "\n",
    "# Isolate the rows of interest\n",
    "abridged_df = raw_df.loc[(raw_df[\"Indicators\"] == \"Current Health Expenditure (CHE) as % Gross Domestic Product (GDP)\") | (raw_df[\"Indicators\"] == \"Current Health Expenditure (CHE) per Capita in US$\"), :]\n",
    "# display(abridged_df)\n",
    "\n",
    "# Remove the un-used column \"Unnamed: 2\"\n",
    "clean_1 = abridged_df.drop(columns=[\"Unnamed: 2\"])\n",
    "# display(clean_1)\n",
    "\n",
    "# Sort by country name\n",
    "clean_2 = clean_1.sort_values(by=\"Countries\")\n",
    "clean_2.reset_index(drop=True, inplace=True)\n",
    "# display(clean_2)\n",
    "\n",
    "# Remove thousands-place commas, then convert values to float\n",
    "for column in clean_2.columns[2:]:\n",
    "    clean_2[column] = clean_2[column].str.replace(\",\", \"\").astype(float)\n",
    "\n",
    "# Export to csv\n",
    "df = pd.DataFrame(clean_2)\n",
    "df.to_csv('WHO_health_expenditure_ready_to_use.csv', index=False, encoding=\"ISO-8859-1\")\n",
    "\n"
   ]
  },
  {
   "cell_type": "code",
   "execution_count": null,
   "id": "bc2701c9-63fa-411a-98b4-6cffe66101a9",
   "metadata": {},
   "outputs": [],
   "source": []
  }
 ],
 "metadata": {
  "kernelspec": {
   "display_name": "Python 3 (ipykernel)",
   "language": "python",
   "name": "python3"
  },
  "language_info": {
   "codemirror_mode": {
    "name": "ipython",
    "version": 3
   },
   "file_extension": ".py",
   "mimetype": "text/x-python",
   "name": "python",
   "nbconvert_exporter": "python",
   "pygments_lexer": "ipython3",
   "version": "3.10.14"
  }
 },
 "nbformat": 4,
 "nbformat_minor": 5
}
